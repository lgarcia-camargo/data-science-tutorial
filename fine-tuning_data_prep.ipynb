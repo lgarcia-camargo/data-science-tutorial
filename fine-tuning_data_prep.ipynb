{
 "cells": [
  {
   "cell_type": "code",
   "execution_count": 1,
   "metadata": {},
   "outputs": [],
   "source": [
    "import io\n",
    "import os\n",
    "import json\n",
    "from google.cloud import speech_v1p1beta1 as speech\n",
    "from google.cloud.speech_v1p1beta1 import types"
   ]
  },
  {
   "cell_type": "code",
   "execution_count": 2,
   "metadata": {},
   "outputs": [],
   "source": [
    "# set the path to your JSON key file\n",
    "os.environ['GOOGLE_APPLICATION_CREDENTIALS'] = './gc_keys.json'\n"
   ]
  },
  {
   "cell_type": "code",
   "execution_count": 3,
   "metadata": {},
   "outputs": [],
   "source": [
    "# create a Speech-to-Text client\n",
    "client = speech.SpeechClient()"
   ]
  },
  {
   "cell_type": "code",
   "execution_count": 18,
   "metadata": {},
   "outputs": [],
   "source": [
    "# set the path to your audio file\n",
    "audio_file_uri = 'gs://dsc_tutorial_bucket/ep1_trimmed.mp3'"
   ]
  },
  {
   "cell_type": "code",
   "execution_count": 21,
   "metadata": {},
   "outputs": [],
   "source": [
    "# configure the audio settings for the transcription request\n",
    "audio = types.RecognitionAudio(uri=audio_file_uri)\n",
    "config = types.RecognitionConfig(\n",
    "    encoding=types.RecognitionConfig.AudioEncoding.MP3,\n",
    "    sample_rate_hertz=44100,\n",
    "    language_code='en-US',\n",
    "    enable_speaker_diarization=True,\n",
    "    diarization_speaker_count=2)"
   ]
  },
  {
   "cell_type": "code",
   "execution_count": 22,
   "metadata": {},
   "outputs": [],
   "source": [
    "# perform the transcription request\n",
    "response = client.long_running_recognize(config=config, audio=audio)\n"
   ]
  },
  {
   "cell_type": "code",
   "execution_count": 28,
   "metadata": {},
   "outputs": [],
   "source": [
    "r = response.result()"
   ]
  },
  {
   "cell_type": "code",
   "execution_count": 53,
   "metadata": {},
   "outputs": [],
   "source": [
    "# print the transcription results\n",
    "with open('transcription.txt', 'w') as f:\n",
    "    current_speaker = None\n",
    "    for result in r.results:\n",
    "        for word in result.alternatives[0].words:\n",
    "            speaker = 'Speaker {}'.format(word.speaker_tag)\n",
    "            if speaker != current_speaker:\n",
    "                f.write('\\n{}: '.format(speaker))\n",
    "                current_speaker = speaker\n",
    "            f.write('{} '.format(word.word))"
   ]
  },
  {
   "cell_type": "code",
   "execution_count": 9,
   "metadata": {},
   "outputs": [],
   "source": [
    "with open('transcription.txt', 'r') as f:\n",
    "    lines = f.readlines()"
   ]
  },
  {
   "cell_type": "code",
   "execution_count": 12,
   "metadata": {},
   "outputs": [],
   "source": [
    "# Create an empty list to store the transformed dialogues\n",
    "dialogues = []\n",
    "\n",
    "# Loop over the lines in the transcript file and transform the dialogues\n",
    "for i in range(0, len(lines), 2):\n",
    "    # Extract the speakers and messages from the current dialogue\n",
    "    speaker1, message1 = lines[i].strip().split(': ')\n",
    "    speaker2, message2 = lines[i+1].strip().split(': ')\n",
    "\n",
    "    # Create the prompt and completion strings for the dialogue\n",
    "    prompt = f\"You are an interviewer speaking in a conversational manner. Respond to the following message:{message1}\"\n",
    "    completion = f\"{message2}\"\n",
    "\n",
    "    # Append the transformed dialogue to the dialogues list\n",
    "    dialogues.append({\"prompt\": prompt, \"completion\": completion})\n"
   ]
  },
  {
   "cell_type": "code",
   "execution_count": 16,
   "metadata": {},
   "outputs": [
    {
     "data": {
      "text/plain": [
       "[{'prompt': 'You are an interviewer speaking in a conversational manner. Respond to the following message:hey Max',\n",
       "  'completion': 'how how you doing'},\n",
       " {'prompt': 'You are an interviewer speaking in a conversational manner. Respond to the following message:fantastic',\n",
       "  'completion': 'fantastic'},\n",
       " {'prompt': 'You are an interviewer speaking in a conversational manner. Respond to the following message:I have to kind of apologize for being ridiculously happy',\n",
       "  'completion': \"you mean you've been inexplicably happy your whole life\"},\n",
       " {'prompt': 'You are an interviewer speaking in a conversational manner. Respond to the following message:for the last maybe the last month or two in a consistent sort of manner and I attributed to various factors which we can go into are not so',\n",
       "  'completion': 'thank you just spell it all out right now we can we can just shut this down and felt the inexplicable happy'},\n",
       " {'prompt': 'You are an interviewer speaking in a conversational manner. Respond to the following message:I took a few weeks',\n",
       "  'completion': 'what was happening over the few weeks'},\n",
       " {'prompt': \"You are an interviewer speaking in a conversational manner. Respond to the following message:I can't remember and I'm more of the same I think it's clearly is the cumulative effect of a pandemic lockdown which for me has meant a tremendous limitation and repetition of the days which I find incredibly thrilling and interesting so the lack of options has opened up a new world of emotion for me I think that the intensity of not having too many options not seeing too many people walking working and reading and watching murder mysteries every night is an incredible thing and the cumulative effect of that is that if you can't find content in that well that's a shame so something happened with all of that\",\n",
       "  'completion': \"so something about the limitations of lockdown open things up just about removing distraction and bullshittin what's that about\"},\n",
       " {'prompt': \"You are an interviewer speaking in a conversational manner. Respond to the following message:living in New York what living anywhere living now there are a million things that you do and want to do and commit to doing with many many people in my life in my work but I think that everybody's suffered in the sense from the two muchness too much\",\n",
       "  'completion': 'too much everything'},\n",
       " {'prompt': 'You are an interviewer speaking in a conversational manner. Respond to the following message:you know the first thing I think it was too much performing there were too many things going on and too many places to go to in too much running around which I',\n",
       "  'completion': 'enjoyed on a stage or at a cocktail party'},\n",
       " {'prompt': 'You are an interviewer speaking in a conversational manner. Respond to the following message:performing a lot of the time in in our way of interacting seeking approval being amusing being smart being something Alexa pressure and search for authenticity continues because if you have not that many options you better feel pretty good about what you have and so I like the sense of authenticity in a kind of snappier way it means having self-confidence and the courage of your convictions and you hold on to what you believe is real I hate myself a lot less during the pandemic I hope it lasts you know I wait I expect every morning to wake up and go like a well I hate myself again there you go',\n",
       "  'completion': 'what did you hate'},\n",
       " {'prompt': 'You are an interviewer speaking in a conversational manner. Respond to the following message:its sense of Shame continual sense of Shame and guilt',\n",
       "  'completion': 'I think those two things are slightly distinct self-loathing and shame'}]"
      ]
     },
     "execution_count": 16,
     "metadata": {},
     "output_type": "execute_result"
    }
   ],
   "source": [
    "dialogues[:10]"
   ]
  },
  {
   "cell_type": "code",
   "execution_count": 17,
   "metadata": {},
   "outputs": [],
   "source": [
    "with open('fine_tuning_data.json', 'w') as f:\n",
    "    for pc in dialogues:\n",
    "        f.write(json.dumps(pc)+'\\n')\n",
    "    "
   ]
  },
  {
   "cell_type": "code",
   "execution_count": null,
   "metadata": {},
   "outputs": [],
   "source": []
  }
 ],
 "metadata": {
  "kernelspec": {
   "display_name": "Python 3",
   "language": "python",
   "name": "python3"
  },
  "language_info": {
   "codemirror_mode": {
    "name": "ipython",
    "version": 3
   },
   "file_extension": ".py",
   "mimetype": "text/x-python",
   "name": "python",
   "nbconvert_exporter": "python",
   "pygments_lexer": "ipython3",
   "version": "3.10.9"
  },
  "orig_nbformat": 4
 },
 "nbformat": 4,
 "nbformat_minor": 2
}
