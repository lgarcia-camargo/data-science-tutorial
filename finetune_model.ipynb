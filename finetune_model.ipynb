{
 "cells": [
  {
   "cell_type": "code",
   "execution_count": 3,
   "metadata": {},
   "outputs": [],
   "source": [
    "import json\n",
    "import openai"
   ]
  },
  {
   "cell_type": "code",
   "execution_count": 15,
   "metadata": {},
   "outputs": [],
   "source": [
    "\n",
    "with open('openai_keys.json', 'r') as f:\n",
    "    keys = json.load(f)\n",
    "\n",
    "openai.api_key = keys['bearer_key']\n",
    "\n",
    "BASE_MODEL = 'davinci'\n",
    "FINE_TUNED_MODEL = 'davinci:ft-research-2023-03-30-02-29-33'"
   ]
  },
  {
   "cell_type": "code",
   "execution_count": 18,
   "metadata": {},
   "outputs": [],
   "source": [
    "\n",
    "def get_response(name, x, model=FINE_TUNED_MODEL, temp=0):\n",
    "    #function to request and return tet from model\n",
    "    prompt = f'You are an interviewer of {name}. Say something about what {name} told you and ask a question furthering the conversation with the goal being to learn about the person\\'s life (family, intersts, work, childhood, etc.). This is what {name} said: {x}'\n",
    "    response = openai.Completion.create(\n",
    "        engine = model,\n",
    "        prompt = prompt,\n",
    "        max_tokens = 50,\n",
    "        temperature = temp,\n",
    "        n = 1\n",
    "    )\n",
    "    \n",
    "    return response['choices'][0]['text']"
   ]
  },
  {
   "cell_type": "code",
   "execution_count": 19,
   "metadata": {},
   "outputs": [
    {
     "data": {
      "text/plain": [
       "', my name is leon. I am a student at the university of california, berkeley. I am majoring in computer science. I am from san francisco. I am a junior. I am a computer programmer. I am'"
      ]
     },
     "execution_count": 19,
     "metadata": {},
     "output_type": "execute_result"
    }
   ],
   "source": [
    "get_response('leon', 'Hello', model=BASE_MODEL)"
   ]
  },
  {
   "cell_type": "code",
   "execution_count": null,
   "metadata": {},
   "outputs": [],
   "source": [
    "# name = input('Hello, what is your name?\\n')\n",
    "# p = input(f'Hello {name}, I am Gina and I will be interviewing you about your life. What have you been up to today?\\n')\n",
    "# while p != 'exit':\n",
    "#     response = get_response(f'You are an interviewer of {name}. Say something about what {name} told you and ask a question furthering the conversation with the goal being to learn about the person\\'s life (family, intersts, work, childhood, etc.). This is what {name} said: {p}')\n",
    "#     p = input(response+'\\n')"
   ]
  }
 ],
 "metadata": {
  "kernelspec": {
   "display_name": "Python 3",
   "language": "python",
   "name": "python3"
  },
  "language_info": {
   "codemirror_mode": {
    "name": "ipython",
    "version": 3
   },
   "file_extension": ".py",
   "mimetype": "text/x-python",
   "name": "python",
   "nbconvert_exporter": "python",
   "pygments_lexer": "ipython3",
   "version": "3.10.9"
  },
  "orig_nbformat": 4
 },
 "nbformat": 4,
 "nbformat_minor": 2
}
